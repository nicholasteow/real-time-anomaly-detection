{
 "cells": [
  {
   "cell_type": "code",
   "execution_count": 2,
   "metadata": {},
   "outputs": [],
   "source": [
    "import pandas as pd\n",
    "import glob\n",
    "import os"
   ]
  },
  {
   "cell_type": "markdown",
   "metadata": {},
   "source": [
    "### Caching lxx data to prevent re-runs"
   ]
  },
  {
   "cell_type": "code",
   "execution_count": 3,
   "metadata": {},
   "outputs": [],
   "source": [
    "directory = 'Data/qw 16 unit oper data 14 may 24/'\n",
    "\n",
    "condition = lambda x: x['PD1'] != '0.00'\n",
    "\n",
    "skip_cols = ['STATE', 'CRC', 'PF-F', 'TC-F', 'PBIT-F', 'CRC-F', 'CNT']\n",
    "\n",
    "pattern = r'^L\\d+'\n",
    "\n",
    "processed_dfs = []\n",
    "\n",
    "for file_path in glob.glob(os.path.join(directory, '*.csv')):\n",
    "    initial_df = pd.read_csv(file_path, skiprows=1, usecols=lambda col: col not in skip_cols, low_memory=False)\n",
    "\n",
    "    initial_df.rename(columns={initial_df.columns[0]: 'Date_Time'}, inplace=True)\n",
    "\n",
    "    filtered_df = initial_df[initial_df.apply(condition, axis=1)].reset_index(drop=True)\n",
    "\n",
    "    final_df = filtered_df[filtered_df[\"Lxx\"].str.match(pattern, na=False)].reset_index(drop=True)\n",
    "\n",
    "    processed_dfs.append(final_df)\n",
    "\n",
    "lxx_data = pd.concat(processed_dfs, ignore_index=True)"
   ]
  },
  {
   "cell_type": "markdown",
   "metadata": {},
   "source": [
    "### Caching psu data to prevent re-runs"
   ]
  },
  {
   "cell_type": "code",
   "execution_count": 4,
   "metadata": {},
   "outputs": [],
   "source": [
    "directory = 'Data/qw 16 unit oper data 14 may 24/'\n",
    "\n",
    "skip_cols = ['V_LIM', 'I_LIM', 'V_OP', 'I_OP', 'V_MEAS', 'O_REG', 'Q_REG', 'CNT']\n",
    "\n",
    "pattern = r'^PSU\\d+'\n",
    "\n",
    "processed_dfs = []\n",
    "\n",
    "for file_path in glob.glob(os.path.join(directory, '*.csv')):\n",
    "    initial_df = pd.read_csv(file_path, skiprows=3, usecols=lambda col: col not in skip_cols, low_memory=False)\n",
    "\n",
    "    initial_df.rename(columns={initial_df.columns[0]: 'Date_Time'}, inplace=True)\n",
    "\n",
    "    final_df = initial_df[initial_df[\"PSUx\"].str.match(pattern, na=False)].reset_index(drop=True)\n",
    "\n",
    "    processed_dfs.append(final_df)\n",
    "\n",
    "psu_data = pd.concat(processed_dfs, ignore_index=True)"
   ]
  },
  {
   "cell_type": "code",
   "execution_count": 5,
   "metadata": {},
   "outputs": [],
   "source": [
    "lxx_data.dropna(inplace=True)\n",
    "\n",
    "lxx_data.drop(lxx_data[lxx_data['PD2'] == '0.00'].index, inplace=True)\n",
    "psu_data.drop(psu_data[psu_data['I_MEAS'] == '0.00'].index, inplace=True)"
   ]
  },
  {
   "cell_type": "code",
   "execution_count": 6,
   "metadata": {},
   "outputs": [],
   "source": [
    "final_lxx_data = lxx_data\n",
    "final_psu_data = psu_data"
   ]
  },
  {
   "cell_type": "code",
   "execution_count": 7,
   "metadata": {},
   "outputs": [],
   "source": [
    "datetime_format = \"%Y-%m-%d %H:%M:%S:%f\"\n",
    "final_lxx_data['Date_Time'] = pd.to_datetime(final_lxx_data['Date_Time'], format=datetime_format)\n",
    "final_psu_data['Date_Time'] = pd.to_datetime(final_psu_data['Date_Time'], format=datetime_format)"
   ]
  },
  {
   "cell_type": "code",
   "execution_count": 9,
   "metadata": {},
   "outputs": [],
   "source": [
    "lxx_csv_path = 'Created_files/final_lxx_data.csv'\n",
    "psu_csv_path = 'Created_files/final_psu_data.csv'\n",
    "\n",
    "final_lxx_data.to_csv(lxx_csv_path, index=False)\n",
    "final_psu_data.to_csv(psu_csv_path, index=False)"
   ]
  },
  {
   "cell_type": "markdown",
   "metadata": {},
   "source": [
    "### Datasets are now cleaned and pushed to MongoDB via a batch file"
   ]
  }
 ],
 "metadata": {
  "kernelspec": {
   "display_name": "Python 3",
   "language": "python",
   "name": "python3"
  },
  "language_info": {
   "codemirror_mode": {
    "name": "ipython",
    "version": 3
   },
   "file_extension": ".py",
   "mimetype": "text/x-python",
   "name": "python",
   "nbconvert_exporter": "python",
   "pygments_lexer": "ipython3",
   "version": "3.12.3"
  }
 },
 "nbformat": 4,
 "nbformat_minor": 2
}
